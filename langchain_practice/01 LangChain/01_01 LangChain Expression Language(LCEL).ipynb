{
 "cells": [
  {
   "cell_type": "code",
   "execution_count": null,
   "metadata": {},
   "outputs": [],
   "source": [
    "# LangChain 업데이트\n",
    "# !pip install -U langchain langchain-community langchain-experimental langchain-core langchain-openai langsmith"
   ]
  },
  {
   "cell_type": "markdown",
   "metadata": {},
   "source": [
    "### PromptTemplate"
   ]
  },
  {
   "cell_type": "code",
   "execution_count": 1,
   "metadata": {},
   "outputs": [
    {
     "data": {
      "text/plain": [
       "PromptTemplate(input_variables=['country'], template='{country}의 수도는 어디인가요?')"
      ]
     },
     "execution_count": 1,
     "metadata": {},
     "output_type": "execute_result"
    }
   ],
   "source": [
    "from langchain.prompts import PromptTemplate\n",
    "\n",
    "# template 정의\n",
    "template = \"{country}의 수도는 어디인가요?\"\n",
    "\n",
    "# from_template 메소드를 이용하여 PromptTemplate 객체 생성\n",
    "prompt_template = PromptTemplate.from_template(template)\n",
    "prompt_template"
   ]
  },
  {
   "cell_type": "code",
   "execution_count": 2,
   "metadata": {},
   "outputs": [
    {
     "data": {
      "text/plain": [
       "'대한민국의 수도는 어디인가요?'"
      ]
     },
     "execution_count": 2,
     "metadata": {},
     "output_type": "execute_result"
    }
   ],
   "source": [
    "# prompt 생성\n",
    "prompt = prompt_template.format(country=\"대한민국\")\n",
    "prompt"
   ]
  },
  {
   "cell_type": "markdown",
   "metadata": {},
   "source": [
    "### Model(LLM)"
   ]
  },
  {
   "cell_type": "code",
   "execution_count": 3,
   "metadata": {},
   "outputs": [],
   "source": [
    "from langchain_openai import ChatOpenAI\n",
    "\n",
    "model = ChatOpenAI(\n",
    "    model=\"gpt-3.5-turbo\",\n",
    "    max_tokens=2048,\n",
    "    temperature=0.1,\n",
    ")"
   ]
  },
  {
   "cell_type": "markdown",
   "metadata": {},
   "source": [
    "### Output"
   ]
  },
  {
   "cell_type": "code",
   "execution_count": 4,
   "metadata": {},
   "outputs": [],
   "source": [
    "from langchain_core.output_parsers import StrOutputParser\n",
    "\n",
    "output_parser = StrOutputParser()"
   ]
  },
  {
   "cell_type": "markdown",
   "metadata": {},
   "source": [
    "### Chain 생성"
   ]
  },
  {
   "cell_type": "code",
   "execution_count": 6,
   "metadata": {},
   "outputs": [],
   "source": [
    "chain = PromptTemplate.from_template(template) | model | output_parser"
   ]
  },
  {
   "cell_type": "code",
   "execution_count": 7,
   "metadata": {},
   "outputs": [
    {
     "data": {
      "text/plain": [
       "'대한민국의 수도는 서울입니다.'"
      ]
     },
     "execution_count": 7,
     "metadata": {},
     "output_type": "execute_result"
    }
   ],
   "source": [
    "# 완성된 Chain 을 이용하여 country 를 '대한민국'으로 설정하여 실행합니다.\n",
    "chain.invoke({\"country\": \"대한민국\"})"
   ]
  },
  {
   "cell_type": "markdown",
   "metadata": {},
   "source": [
    "### 예시"
   ]
  },
  {
   "cell_type": "code",
   "execution_count": 8,
   "metadata": {},
   "outputs": [
    {
     "name": "stdout",
     "output_type": "stream",
     "text": [
      "- 개요: 직장 첫 출근날은 첫인상을 좋게 하고 향후 직장 생활의 기초를 다지는 중요한 날입니다. 이날은 상사와 동료들에게 존중과 긍정적 태도를 보이며, 적극적으로 업무를 배우려는 의지를 표현하는 것이 중요합니다. 또한, 기본적인 직장 예절과 규칙을 준수하며, 동료들과 소통하려는 노력도 필요합니다.\n",
      "\n",
      "- 예시:\n",
      "  - 아침에 일찍 도착하여 상사와 동료들에게 인사하기\n",
      "  - 복장은 사전에 알려진 dress code에 맞추어 준비하기\n",
      "  - 상사나 동료가 말하는 것을 주의 깊게 듣고, 필요한 경우 메모하기\n",
      "  - 주어진 업무에 대해 적극적으로 질문하고 피드백을 요청하기\n",
      "  - 점심시간이나 휴식시간을 동료들과 함께 보내면서 서로를 알아가기\n",
      "  - 첫날 배운 것과 느낀 점을 집에 돌아가서 정리하기\n",
      "\n",
      "- 출처: 출처는 본 질문에 대한 가상의 답변 형식이므로, 특정한 출처를 제공하지 않습니다.\n"
     ]
    }
   ],
   "source": [
    "# 주어진 나라에 대하여 수도를 묻는 프롬프트 템플릿을 생성합니다.\n",
    "template = \"\"\"\n",
    "당신은 친절하게 답변해 주는 친절 봇입니다. 사용자의 질문에 [FORMAT]에 맞추어 답변해 주세요.\n",
    "답변은 항상 한글로 작성해 주세요.\n",
    "\n",
    "질문:\n",
    "{question}에 대하여 설명해 주세요.\n",
    "\n",
    "FORMAT:\n",
    "- 개요:\n",
    "- 예시:\n",
    "- 출처:\n",
    "\"\"\"\n",
    "\n",
    "prompt = PromptTemplate.from_template(template)\n",
    "\n",
    "# OpenAI 챗모델을 초기화합니다.\n",
    "model = ChatOpenAI(model=\"gpt-4-turbo-preview\")\n",
    "# 문자열 출력 파서를 초기화합니다.\n",
    "output_parser = StrOutputParser()\n",
    "\n",
    "# 프롬프트, 모델, 출력 파서를 연결하여 처리 체인을 구성합니다.\n",
    "chain = prompt | model | output_parser\n",
    "\n",
    "print(chain.invoke({\"question\": \"직장 첫 출근날 어떻게 행동해야할까?\"}))\n"
   ]
  },
  {
   "cell_type": "code",
   "execution_count": 9,
   "metadata": {},
   "outputs": [
    {
     "name": "stdout",
     "output_type": "stream",
     "text": [
      "영어 회화:\n",
      "- Excuse me, could I see the menu, please?\n",
      "- Yes, of course. Here you go.\n",
      "- Thank you. I'd like to order the grilled salmon with a side of vegetables, please.\n",
      "- Would you like anything to drink?\n",
      "- Yes, could I have a glass of water and a cup of coffee, please?\n",
      "- Sure, I'll have your order out as soon as possible. Thank you.\n",
      "\n",
      "한글 해석:\n",
      "- 실례합니다, 메뉴판을 볼 수 있을까요?\n",
      "- 네, 물론입니다. 여기 있습니다.\n",
      "- 감사합니다. 구운 연어와 채소 사이드를 주문하고 싶어요.\n",
      "- 음료는 뭘로 드릴까요?\n",
      "- 네, 물 한 잔과 커피 한 잔 주세요.\n",
      "- 알겠습니다. 가능한 한 빨리 주문하신 음식을 준비해 드리겠습니다. 감사합니다.\n"
     ]
    }
   ],
   "source": [
    "template = \"\"\"\n",
    "당신은 영어를 가르치는 10년차 영어 선생님입니다. 상황에 [FORMAT]에 영어 회화를 작성해 주세요.\n",
    "\n",
    "상황:\n",
    "{question}\n",
    "\n",
    "FORMAT:\n",
    "- 영어 회화:\n",
    "- 한글 해석:\n",
    "\"\"\"\n",
    "\n",
    "prompt = PromptTemplate.from_template(template)\n",
    "\n",
    "# OpenAI 챗모델을 초기화합니다.\n",
    "model = ChatOpenAI(model=\"gpt-4-turbo-preview\")\n",
    "# 문자열 출력 파서를 초기화합니다.\n",
    "output_parser = StrOutputParser()\n",
    "\n",
    "# 프롬프트, 모델, 출력 파서를 연결하여 처리 체인을 구성합니다.\n",
    "chain = prompt | model | output_parser\n",
    "\n",
    "print(chain.invoke({\"question\": \"저는 식당에 가서 음식을 주문하고 싶어요\"}))\n"
   ]
  },
  {
   "cell_type": "markdown",
   "metadata": {},
   "source": [
    "### 전체 파이프라인"
   ]
  },
  {
   "cell_type": "code",
   "execution_count": 10,
   "metadata": {},
   "outputs": [
    {
     "data": {
      "text/plain": [
       "AIMessage(content=\"양자역학은 아주 작은 입자들이 어떻게 움직이고 상호작용하는지를 설명하는 물리학의 한 분야입니다. 우리가 일상에서 경험하는 세계는 뉴턴의 운동 법칙 같은 고전역학의 법칙에 따라 움직이지만, 원자나 전자와 같은 아주 작은 입자들의 세계에서는 이러한 법칙들이 적용되지 않습니다. 대신, 양자역학의 법칙이 그들의 행동을 지배합니다.\\n\\n양자역학의 몇 가지 핵심 개념을 쉽게 설명하자면:\\n\\n1. **파동-입자 이중성**: 빛이나 전자 같은 입자들은 때로는 파동처럼, 때로는 입자처럼 행동할 수 있습니다. 이것은 실험 상황에 따라 달라집니다.\\n\\n2. **불확정성 원리**: 하이젠베르크의 불확정성 원리에 따르면, 우리는 입자의 위치와 운동량(속도와 방향)을 동시에 정확하게 알 수 없습니다. 한 쪽을 더 정확하게 알려고 하면, 다른 한 쪽은 그만큼 더 불확정해집니다.\\n\\n3. **양자 중첩**: 양자역학에서는 입자가 여러 상태의 '중첩'된 상태에 있을 수 있습니다. 이는 입자가 동시에 여러 위치나 상태에 있을 수 있음을 의미합니다. 이 상태는 관측될 때까지 확정되지 않습니다.\\n\\n4. **양자 얽힘**: 두 입자가 얽혀있을 때, 한 입자의 상태를 측정하면 즉시 다른 입자의 상태도 결정됩니다. 이 현상은 입자들이 얼마나 멀리 떨어져 있든 상관없이 발생합니다.\\n\\n양자역학은 미시 세계를 이해하는데 필수적입니다. 이 이론 덕분에 반도체, 레이저, 양자 컴퓨터 같은 현대 기술의 발전이 가능했습니다. 하지만 여전히 많은 부분이 연구 중이며, 양자역학의 전체 그림은 아직 완성되지 않았습니다.\", response_metadata={'token_usage': {'completion_tokens': 707, 'prompt_tokens': 26, 'total_tokens': 733}, 'model_name': 'gpt-4-turbo-preview', 'system_fingerprint': 'fp_daebbecb8f', 'finish_reason': 'stop', 'logprobs': None}, id='run-5c7efd08-07ea-479c-843d-0edd833f906c-0')"
      ]
     },
     "execution_count": 10,
     "metadata": {},
     "output_type": "execute_result"
    }
   ],
   "source": [
    "# prompt 를 PromptTemplate 객체로 생성합니다.\n",
    "prompt = PromptTemplate.from_template(\"{topic} 에 대해 쉽게 설명해주세요.\")\n",
    "\n",
    "# input 딕셔너리에 주제를 'ice cream'으로 설정합니다.\n",
    "input = {\"topic\": \"양자역학\"}\n",
    "\n",
    "# prompt 객체의 invoke 메서드를 사용하여 input을 전달하고 대화형 프롬프트 값을 생성합니다.\n",
    "prompt.invoke(input)\n",
    "\n",
    "# prompt 객체와 model 객체를 파이프(|) 연산자로 연결하고 invoke 메서드를 사용하여 input을 전달합니다.\n",
    "# 이를 통해 AI 모델이 생성한 메시지를 반환합니다.\n",
    "(prompt | model).invoke(input)\n"
   ]
  },
  {
   "cell_type": "code",
   "execution_count": 11,
   "metadata": {},
   "outputs": [],
   "source": [
    "# parse_output 메서드를 사용하여 AI 모델이 생성한 메시지 문자열로 출력합니다.\n",
    "(prompt | model | output_parser).invoke(input)"
   ]
  }
 ],
 "metadata": {
  "kernelspec": {
   "display_name": ".venv",
   "language": "python",
   "name": "python3"
  },
  "language_info": {
   "codemirror_mode": {
    "name": "ipython",
    "version": 3
   },
   "file_extension": ".py",
   "mimetype": "text/x-python",
   "name": "python",
   "nbconvert_exporter": "python",
   "pygments_lexer": "ipython3",
   "version": "3.12.1"
  }
 },
 "nbformat": 4,
 "nbformat_minor": 2
}
