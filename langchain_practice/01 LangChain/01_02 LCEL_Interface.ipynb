{
 "cells": [
  {
   "cell_type": "markdown",
   "metadata": {},
   "source": [
    "## LCEL 인터페이스"
   ]
  },
  {
   "cell_type": "markdown",
   "metadata": {},
   "source": [
    "표준 인터페이스에는 다음이 포함됩니다:\n",
    "\n",
    "- `stream`: 응답의 청크를 스트리밍합니다\n",
    "- `invoke`: 입력에 대해 체인을 호출합니다\n",
    "- `batch`: 입력 목록에 대해 체인을 호출합니다\n",
    "\n",
    "---\n",
    "\n",
    "이들에는 해당하는 비동기 메소드도 있습니다:\n",
    "\n",
    "- `astream`: 비동기적으로 응답의 청크를 스트리밍합니다\n",
    "- `ainvoke`: 비동기적으로 입력에 대해 체인을 호출합니다\n",
    "- `abatch`: 비동기적으로 입력 목록에 대해 체인을 호출합니다\n",
    "- `astream_log`: 최종 응답뿐만 아니라 발생하는 중간 단계를 스트리밍합니다"
   ]
  },
  {
   "cell_type": "code",
   "execution_count": 3,
   "metadata": {},
   "outputs": [],
   "source": [
    "from langchain_openai import ChatOpenAI\n",
    "from langchain.prompts import ChatPromptTemplate\n",
    "\n",
    "# ChatOpenAI 모델을 인스턴스화합니다.\n",
    "model = ChatOpenAI()\n",
    "# 주어진 토픽에 대한 농담을 요청하는 프롬프트 템플릿을 생성합니다.\n",
    "prompt = ChatPromptTemplate.from_template(\"{topic} 에 대하여 3문장으로 설명해줘.\")\n",
    "# 프롬프트와 모델을 연결하여 대화 체인을 생성합니다.\n",
    "chain = prompt | model\n"
   ]
  },
  {
   "cell_type": "markdown",
   "metadata": {},
   "source": [
    "## 입출력 스키마"
   ]
  },
  {
   "cell_type": "markdown",
   "metadata": {},
   "source": [
    "### 입력 스키마\n",
    "\n",
    ".schema()를 호출하여 JSONSchema 표현을 얻을 수 있습니다."
   ]
  },
  {
   "cell_type": "code",
   "execution_count": 4,
   "metadata": {},
   "outputs": [
    {
     "data": {
      "text/plain": [
       "{'title': 'PromptInput',\n",
       " 'type': 'object',\n",
       " 'properties': {'topic': {'title': 'Topic', 'type': 'string'}}}"
      ]
     },
     "execution_count": 4,
     "metadata": {},
     "output_type": "execute_result"
    }
   ],
   "source": [
    "# 체인의 입력 스키마는 첫 번째 부분인 프롬프트의 입력 스키마입니다.\n",
    "chain.input_schema.schema()\n"
   ]
  },
  {
   "cell_type": "code",
   "execution_count": 5,
   "metadata": {},
   "outputs": [
    {
     "name": "stdout",
     "output_type": "stream",
     "text": [
      "{\n",
      "    \"type\": \"object\",\n",
      "    \"properties\": {\n",
      "        \"name\": {\n",
      "            \"type\": \"string\"\n",
      "        },\n",
      "        \"age\": {\n",
      "            \"type\": \"integer\",\n",
      "            \"minimum\": 0\n",
      "        }\n",
      "    },\n",
      "    \"required\": [\n",
      "        \"name\",\n",
      "        \"age\"\n",
      "    ]\n",
      "}\n"
     ]
    }
   ],
   "source": [
    "import json\n",
    "\n",
    "\n",
    "# 스키마를 출력하는 함수를 정의합니다.\n",
    "def print_schema(schema):\n",
    "    # 스키마를 JSON 형식으로 출력합니다.\n",
    "    print(json.dumps(schema, indent=4))\n",
    "\n",
    "\n",
    "# 입력 스키마를 정의합니다.\n",
    "input_schema = {\n",
    "    \"type\": \"object\",\n",
    "    \"properties\": {\n",
    "        \"name\": {\"type\": \"string\"},\n",
    "        \"age\": {\"type\": \"integer\", \"minimum\": 0},\n",
    "    },\n",
    "    \"required\": [\"name\", \"age\"],\n",
    "}\n",
    "\n",
    "# 스키마를 출력하는 함수를 호출합니다.\n",
    "print_schema(input_schema)\n"
   ]
  },
  {
   "cell_type": "code",
   "execution_count": 6,
   "metadata": {},
   "outputs": [
    {
     "data": {
      "text/plain": [
       "{'title': 'ChatOpenAIInput',\n",
       " 'anyOf': [{'type': 'string'},\n",
       "  {'$ref': '#/definitions/StringPromptValue'},\n",
       "  {'$ref': '#/definitions/ChatPromptValueConcrete'},\n",
       "  {'type': 'array',\n",
       "   'items': {'anyOf': [{'$ref': '#/definitions/AIMessage'},\n",
       "     {'$ref': '#/definitions/HumanMessage'},\n",
       "     {'$ref': '#/definitions/ChatMessage'},\n",
       "     {'$ref': '#/definitions/SystemMessage'},\n",
       "     {'$ref': '#/definitions/FunctionMessage'},\n",
       "     {'$ref': '#/definitions/ToolMessage'}]}}],\n",
       " 'definitions': {'StringPromptValue': {'title': 'StringPromptValue',\n",
       "   'description': 'String prompt value.',\n",
       "   'type': 'object',\n",
       "   'properties': {'text': {'title': 'Text', 'type': 'string'},\n",
       "    'type': {'title': 'Type',\n",
       "     'default': 'StringPromptValue',\n",
       "     'enum': ['StringPromptValue'],\n",
       "     'type': 'string'}},\n",
       "   'required': ['text']},\n",
       "  'ToolCall': {'title': 'ToolCall',\n",
       "   'type': 'object',\n",
       "   'properties': {'name': {'title': 'Name', 'type': 'string'},\n",
       "    'args': {'title': 'Args', 'type': 'object'},\n",
       "    'id': {'title': 'Id', 'type': 'string'}},\n",
       "   'required': ['name', 'args', 'id']},\n",
       "  'InvalidToolCall': {'title': 'InvalidToolCall',\n",
       "   'type': 'object',\n",
       "   'properties': {'name': {'title': 'Name', 'type': 'string'},\n",
       "    'args': {'title': 'Args', 'type': 'string'},\n",
       "    'id': {'title': 'Id', 'type': 'string'},\n",
       "    'error': {'title': 'Error', 'type': 'string'}},\n",
       "   'required': ['name', 'args', 'id', 'error']},\n",
       "  'AIMessage': {'title': 'AIMessage',\n",
       "   'description': 'Message from an AI.',\n",
       "   'type': 'object',\n",
       "   'properties': {'content': {'title': 'Content',\n",
       "     'anyOf': [{'type': 'string'},\n",
       "      {'type': 'array',\n",
       "       'items': {'anyOf': [{'type': 'string'}, {'type': 'object'}]}}]},\n",
       "    'additional_kwargs': {'title': 'Additional Kwargs', 'type': 'object'},\n",
       "    'response_metadata': {'title': 'Response Metadata', 'type': 'object'},\n",
       "    'type': {'title': 'Type',\n",
       "     'default': 'ai',\n",
       "     'enum': ['ai'],\n",
       "     'type': 'string'},\n",
       "    'name': {'title': 'Name', 'type': 'string'},\n",
       "    'id': {'title': 'Id', 'type': 'string'},\n",
       "    'example': {'title': 'Example', 'default': False, 'type': 'boolean'},\n",
       "    'tool_calls': {'title': 'Tool Calls',\n",
       "     'default': [],\n",
       "     'type': 'array',\n",
       "     'items': {'$ref': '#/definitions/ToolCall'}},\n",
       "    'invalid_tool_calls': {'title': 'Invalid Tool Calls',\n",
       "     'default': [],\n",
       "     'type': 'array',\n",
       "     'items': {'$ref': '#/definitions/InvalidToolCall'}}},\n",
       "   'required': ['content']},\n",
       "  'HumanMessage': {'title': 'HumanMessage',\n",
       "   'description': 'Message from a human.',\n",
       "   'type': 'object',\n",
       "   'properties': {'content': {'title': 'Content',\n",
       "     'anyOf': [{'type': 'string'},\n",
       "      {'type': 'array',\n",
       "       'items': {'anyOf': [{'type': 'string'}, {'type': 'object'}]}}]},\n",
       "    'additional_kwargs': {'title': 'Additional Kwargs', 'type': 'object'},\n",
       "    'response_metadata': {'title': 'Response Metadata', 'type': 'object'},\n",
       "    'type': {'title': 'Type',\n",
       "     'default': 'human',\n",
       "     'enum': ['human'],\n",
       "     'type': 'string'},\n",
       "    'name': {'title': 'Name', 'type': 'string'},\n",
       "    'id': {'title': 'Id', 'type': 'string'},\n",
       "    'example': {'title': 'Example', 'default': False, 'type': 'boolean'}},\n",
       "   'required': ['content']},\n",
       "  'ChatMessage': {'title': 'ChatMessage',\n",
       "   'description': 'Message that can be assigned an arbitrary speaker (i.e. role).',\n",
       "   'type': 'object',\n",
       "   'properties': {'content': {'title': 'Content',\n",
       "     'anyOf': [{'type': 'string'},\n",
       "      {'type': 'array',\n",
       "       'items': {'anyOf': [{'type': 'string'}, {'type': 'object'}]}}]},\n",
       "    'additional_kwargs': {'title': 'Additional Kwargs', 'type': 'object'},\n",
       "    'response_metadata': {'title': 'Response Metadata', 'type': 'object'},\n",
       "    'type': {'title': 'Type',\n",
       "     'default': 'chat',\n",
       "     'enum': ['chat'],\n",
       "     'type': 'string'},\n",
       "    'name': {'title': 'Name', 'type': 'string'},\n",
       "    'id': {'title': 'Id', 'type': 'string'},\n",
       "    'role': {'title': 'Role', 'type': 'string'}},\n",
       "   'required': ['content', 'role']},\n",
       "  'SystemMessage': {'title': 'SystemMessage',\n",
       "   'description': 'Message for priming AI behavior, usually passed in as the first of a sequence\\nof input messages.',\n",
       "   'type': 'object',\n",
       "   'properties': {'content': {'title': 'Content',\n",
       "     'anyOf': [{'type': 'string'},\n",
       "      {'type': 'array',\n",
       "       'items': {'anyOf': [{'type': 'string'}, {'type': 'object'}]}}]},\n",
       "    'additional_kwargs': {'title': 'Additional Kwargs', 'type': 'object'},\n",
       "    'response_metadata': {'title': 'Response Metadata', 'type': 'object'},\n",
       "    'type': {'title': 'Type',\n",
       "     'default': 'system',\n",
       "     'enum': ['system'],\n",
       "     'type': 'string'},\n",
       "    'name': {'title': 'Name', 'type': 'string'},\n",
       "    'id': {'title': 'Id', 'type': 'string'}},\n",
       "   'required': ['content']},\n",
       "  'FunctionMessage': {'title': 'FunctionMessage',\n",
       "   'description': 'Message for passing the result of executing a function back to a model.',\n",
       "   'type': 'object',\n",
       "   'properties': {'content': {'title': 'Content',\n",
       "     'anyOf': [{'type': 'string'},\n",
       "      {'type': 'array',\n",
       "       'items': {'anyOf': [{'type': 'string'}, {'type': 'object'}]}}]},\n",
       "    'additional_kwargs': {'title': 'Additional Kwargs', 'type': 'object'},\n",
       "    'response_metadata': {'title': 'Response Metadata', 'type': 'object'},\n",
       "    'type': {'title': 'Type',\n",
       "     'default': 'function',\n",
       "     'enum': ['function'],\n",
       "     'type': 'string'},\n",
       "    'name': {'title': 'Name', 'type': 'string'},\n",
       "    'id': {'title': 'Id', 'type': 'string'}},\n",
       "   'required': ['content', 'name']},\n",
       "  'ToolMessage': {'title': 'ToolMessage',\n",
       "   'description': 'Message for passing the result of executing a tool back to a model.',\n",
       "   'type': 'object',\n",
       "   'properties': {'content': {'title': 'Content',\n",
       "     'anyOf': [{'type': 'string'},\n",
       "      {'type': 'array',\n",
       "       'items': {'anyOf': [{'type': 'string'}, {'type': 'object'}]}}]},\n",
       "    'additional_kwargs': {'title': 'Additional Kwargs', 'type': 'object'},\n",
       "    'response_metadata': {'title': 'Response Metadata', 'type': 'object'},\n",
       "    'type': {'title': 'Type',\n",
       "     'default': 'tool',\n",
       "     'enum': ['tool'],\n",
       "     'type': 'string'},\n",
       "    'name': {'title': 'Name', 'type': 'string'},\n",
       "    'id': {'title': 'Id', 'type': 'string'},\n",
       "    'tool_call_id': {'title': 'Tool Call Id', 'type': 'string'}},\n",
       "   'required': ['content', 'tool_call_id']},\n",
       "  'ChatPromptValueConcrete': {'title': 'ChatPromptValueConcrete',\n",
       "   'description': 'Chat prompt value which explicitly lists out the message types it accepts.\\nFor use in external schemas.',\n",
       "   'type': 'object',\n",
       "   'properties': {'messages': {'title': 'Messages',\n",
       "     'type': 'array',\n",
       "     'items': {'anyOf': [{'$ref': '#/definitions/AIMessage'},\n",
       "       {'$ref': '#/definitions/HumanMessage'},\n",
       "       {'$ref': '#/definitions/ChatMessage'},\n",
       "       {'$ref': '#/definitions/SystemMessage'},\n",
       "       {'$ref': '#/definitions/FunctionMessage'},\n",
       "       {'$ref': '#/definitions/ToolMessage'}]}},\n",
       "    'type': {'title': 'Type',\n",
       "     'default': 'ChatPromptValueConcrete',\n",
       "     'enum': ['ChatPromptValueConcrete'],\n",
       "     'type': 'string'}},\n",
       "   'required': ['messages']}}}"
      ]
     },
     "execution_count": 6,
     "metadata": {},
     "output_type": "execute_result"
    }
   ],
   "source": [
    "# 모델의 입력 스키마를 출력합니다.\n",
    "model.input_schema.schema()\n"
   ]
  },
  {
   "cell_type": "markdown",
   "metadata": {},
   "source": [
    "### 출력 스키마"
   ]
  },
  {
   "cell_type": "code",
   "execution_count": 7,
   "metadata": {},
   "outputs": [
    {
     "data": {
      "text/plain": [
       "{'title': 'ChatOpenAIOutput',\n",
       " 'anyOf': [{'$ref': '#/definitions/AIMessage'},\n",
       "  {'$ref': '#/definitions/HumanMessage'},\n",
       "  {'$ref': '#/definitions/ChatMessage'},\n",
       "  {'$ref': '#/definitions/SystemMessage'},\n",
       "  {'$ref': '#/definitions/FunctionMessage'},\n",
       "  {'$ref': '#/definitions/ToolMessage'}],\n",
       " 'definitions': {'ToolCall': {'title': 'ToolCall',\n",
       "   'type': 'object',\n",
       "   'properties': {'name': {'title': 'Name', 'type': 'string'},\n",
       "    'args': {'title': 'Args', 'type': 'object'},\n",
       "    'id': {'title': 'Id', 'type': 'string'}},\n",
       "   'required': ['name', 'args', 'id']},\n",
       "  'InvalidToolCall': {'title': 'InvalidToolCall',\n",
       "   'type': 'object',\n",
       "   'properties': {'name': {'title': 'Name', 'type': 'string'},\n",
       "    'args': {'title': 'Args', 'type': 'string'},\n",
       "    'id': {'title': 'Id', 'type': 'string'},\n",
       "    'error': {'title': 'Error', 'type': 'string'}},\n",
       "   'required': ['name', 'args', 'id', 'error']},\n",
       "  'AIMessage': {'title': 'AIMessage',\n",
       "   'description': 'Message from an AI.',\n",
       "   'type': 'object',\n",
       "   'properties': {'content': {'title': 'Content',\n",
       "     'anyOf': [{'type': 'string'},\n",
       "      {'type': 'array',\n",
       "       'items': {'anyOf': [{'type': 'string'}, {'type': 'object'}]}}]},\n",
       "    'additional_kwargs': {'title': 'Additional Kwargs', 'type': 'object'},\n",
       "    'response_metadata': {'title': 'Response Metadata', 'type': 'object'},\n",
       "    'type': {'title': 'Type',\n",
       "     'default': 'ai',\n",
       "     'enum': ['ai'],\n",
       "     'type': 'string'},\n",
       "    'name': {'title': 'Name', 'type': 'string'},\n",
       "    'id': {'title': 'Id', 'type': 'string'},\n",
       "    'example': {'title': 'Example', 'default': False, 'type': 'boolean'},\n",
       "    'tool_calls': {'title': 'Tool Calls',\n",
       "     'default': [],\n",
       "     'type': 'array',\n",
       "     'items': {'$ref': '#/definitions/ToolCall'}},\n",
       "    'invalid_tool_calls': {'title': 'Invalid Tool Calls',\n",
       "     'default': [],\n",
       "     'type': 'array',\n",
       "     'items': {'$ref': '#/definitions/InvalidToolCall'}}},\n",
       "   'required': ['content']},\n",
       "  'HumanMessage': {'title': 'HumanMessage',\n",
       "   'description': 'Message from a human.',\n",
       "   'type': 'object',\n",
       "   'properties': {'content': {'title': 'Content',\n",
       "     'anyOf': [{'type': 'string'},\n",
       "      {'type': 'array',\n",
       "       'items': {'anyOf': [{'type': 'string'}, {'type': 'object'}]}}]},\n",
       "    'additional_kwargs': {'title': 'Additional Kwargs', 'type': 'object'},\n",
       "    'response_metadata': {'title': 'Response Metadata', 'type': 'object'},\n",
       "    'type': {'title': 'Type',\n",
       "     'default': 'human',\n",
       "     'enum': ['human'],\n",
       "     'type': 'string'},\n",
       "    'name': {'title': 'Name', 'type': 'string'},\n",
       "    'id': {'title': 'Id', 'type': 'string'},\n",
       "    'example': {'title': 'Example', 'default': False, 'type': 'boolean'}},\n",
       "   'required': ['content']},\n",
       "  'ChatMessage': {'title': 'ChatMessage',\n",
       "   'description': 'Message that can be assigned an arbitrary speaker (i.e. role).',\n",
       "   'type': 'object',\n",
       "   'properties': {'content': {'title': 'Content',\n",
       "     'anyOf': [{'type': 'string'},\n",
       "      {'type': 'array',\n",
       "       'items': {'anyOf': [{'type': 'string'}, {'type': 'object'}]}}]},\n",
       "    'additional_kwargs': {'title': 'Additional Kwargs', 'type': 'object'},\n",
       "    'response_metadata': {'title': 'Response Metadata', 'type': 'object'},\n",
       "    'type': {'title': 'Type',\n",
       "     'default': 'chat',\n",
       "     'enum': ['chat'],\n",
       "     'type': 'string'},\n",
       "    'name': {'title': 'Name', 'type': 'string'},\n",
       "    'id': {'title': 'Id', 'type': 'string'},\n",
       "    'role': {'title': 'Role', 'type': 'string'}},\n",
       "   'required': ['content', 'role']},\n",
       "  'SystemMessage': {'title': 'SystemMessage',\n",
       "   'description': 'Message for priming AI behavior, usually passed in as the first of a sequence\\nof input messages.',\n",
       "   'type': 'object',\n",
       "   'properties': {'content': {'title': 'Content',\n",
       "     'anyOf': [{'type': 'string'},\n",
       "      {'type': 'array',\n",
       "       'items': {'anyOf': [{'type': 'string'}, {'type': 'object'}]}}]},\n",
       "    'additional_kwargs': {'title': 'Additional Kwargs', 'type': 'object'},\n",
       "    'response_metadata': {'title': 'Response Metadata', 'type': 'object'},\n",
       "    'type': {'title': 'Type',\n",
       "     'default': 'system',\n",
       "     'enum': ['system'],\n",
       "     'type': 'string'},\n",
       "    'name': {'title': 'Name', 'type': 'string'},\n",
       "    'id': {'title': 'Id', 'type': 'string'}},\n",
       "   'required': ['content']},\n",
       "  'FunctionMessage': {'title': 'FunctionMessage',\n",
       "   'description': 'Message for passing the result of executing a function back to a model.',\n",
       "   'type': 'object',\n",
       "   'properties': {'content': {'title': 'Content',\n",
       "     'anyOf': [{'type': 'string'},\n",
       "      {'type': 'array',\n",
       "       'items': {'anyOf': [{'type': 'string'}, {'type': 'object'}]}}]},\n",
       "    'additional_kwargs': {'title': 'Additional Kwargs', 'type': 'object'},\n",
       "    'response_metadata': {'title': 'Response Metadata', 'type': 'object'},\n",
       "    'type': {'title': 'Type',\n",
       "     'default': 'function',\n",
       "     'enum': ['function'],\n",
       "     'type': 'string'},\n",
       "    'name': {'title': 'Name', 'type': 'string'},\n",
       "    'id': {'title': 'Id', 'type': 'string'}},\n",
       "   'required': ['content', 'name']},\n",
       "  'ToolMessage': {'title': 'ToolMessage',\n",
       "   'description': 'Message for passing the result of executing a tool back to a model.',\n",
       "   'type': 'object',\n",
       "   'properties': {'content': {'title': 'Content',\n",
       "     'anyOf': [{'type': 'string'},\n",
       "      {'type': 'array',\n",
       "       'items': {'anyOf': [{'type': 'string'}, {'type': 'object'}]}}]},\n",
       "    'additional_kwargs': {'title': 'Additional Kwargs', 'type': 'object'},\n",
       "    'response_metadata': {'title': 'Response Metadata', 'type': 'object'},\n",
       "    'type': {'title': 'Type',\n",
       "     'default': 'tool',\n",
       "     'enum': ['tool'],\n",
       "     'type': 'string'},\n",
       "    'name': {'title': 'Name', 'type': 'string'},\n",
       "    'id': {'title': 'Id', 'type': 'string'},\n",
       "    'tool_call_id': {'title': 'Tool Call Id', 'type': 'string'}},\n",
       "   'required': ['content', 'tool_call_id']}}}"
      ]
     },
     "execution_count": 7,
     "metadata": {},
     "output_type": "execute_result"
    }
   ],
   "source": [
    "# 체인의 출력 스키마는 마지막 부분의 출력 스키마입니다. 이 경우 ChatModel의 출력 스키마로, ChatMessage를 출력합니다.\n",
    "chain.output_schema.schema()\n"
   ]
  },
  {
   "cell_type": "markdown",
   "metadata": {},
   "source": [
    "## 표준 인터페이스: stream, invoke, batch"
   ]
  },
  {
   "cell_type": "markdown",
   "metadata": {},
   "source": [
    "### stream: 실시간 출력"
   ]
  },
  {
   "cell_type": "code",
   "execution_count": 12,
   "metadata": {},
   "outputs": [
    {
     "name": "stdout",
     "output_type": "stream",
     "text": [
      "멀티모달은 여러 가지 다른 형식의 미디어를 결합하여 제공하는 것을 말합니다. 이는 텍스트, 이미지, 오디오, 비디오 등을 함께 사용하여 정보를 전달하거나 상호작용하는 방식을 의미합니다. 멀티모달은 사용자들에게 더 풍부한 경험을 제공하며, 정보를 보다 효과적으로 전달할 수 있습니다."
     ]
    }
   ],
   "source": [
    "# chain.stream 메서드를 사용하여 '멀티모달' 토픽에 대한 스트림을 생성하고 반복합니다.\n",
    "for s in chain.stream({\"topic\": \"멀티모달\"}):\n",
    "    # 스트림에서 받은 데이터의 내용을 출력합니다. 줄바꿈 없이 이어서 출력하고, 버퍼를 즉시 비웁니다.\n",
    "    print(s.content, end=\"\", flush=True)\n"
   ]
  },
  {
   "cell_type": "markdown",
   "metadata": {},
   "source": [
    "### invoke: 호출"
   ]
  },
  {
   "cell_type": "code",
   "execution_count": 9,
   "metadata": {},
   "outputs": [
    {
     "data": {
      "text/plain": [
       "AIMessage(content='ChatGPT는 자연어 처리 기술을 기반으로 한 대화형 인공지능 챗봇으로, 다양한 주제에 대한 대화를 지원합니다. 사용자의 질문에 즉각적이고 정확한 답변을 제공하여 정보를 제공하고 문제 해결을 도와줍니다. 더 나아가, 사용자와의 대화를 통해 계속적인 학습을 통해 더욱 똑똑해지고 유용한 기능을 제공합니다.', response_metadata={'token_usage': {'completion_tokens': 150, 'prompt_tokens': 24, 'total_tokens': 174}, 'model_name': 'gpt-3.5-turbo', 'system_fingerprint': 'fp_c2295e73ad', 'finish_reason': 'stop', 'logprobs': None}, id='run-afa4b609-5152-495b-8d51-524ebd44a7af-0')"
      ]
     },
     "execution_count": 9,
     "metadata": {},
     "output_type": "execute_result"
    }
   ],
   "source": [
    "# chain 객체의 invoke 메서드를 호출하고, 'ChatGPT'라는 주제로 딕셔너리를 전달합니다.\n",
    "chain.invoke({\"topic\": \"ChatGPT\"})\n"
   ]
  },
  {
   "cell_type": "markdown",
   "metadata": {},
   "source": [
    "### batch: 배치(단위 실행)"
   ]
  },
  {
   "cell_type": "code",
   "execution_count": 10,
   "metadata": {},
   "outputs": [
    {
     "data": {
      "text/plain": [
       "[AIMessage(content='ChatGPT는 인공지능 채팅 모델로, 사용자와 자연스럽게 대화를 주고받을 수 있습니다. 이 모델은 다양한 주제에 대해 대화를 이어나가며 사용자의 질문에 답변하고 정보를 제공합니다. ChatGPT는 자연어 이해와 생성 능력을 바탕으로 높은 수준의 상호작용을 제공하여 다양한 커뮤니케이션 상황에서 활용될 수 있습니다.', response_metadata={'token_usage': {'completion_tokens': 147, 'prompt_tokens': 24, 'total_tokens': 171}, 'model_name': 'gpt-3.5-turbo', 'system_fingerprint': 'fp_c2295e73ad', 'finish_reason': 'stop', 'logprobs': None}, id='run-c2e2c662-8649-4e5c-9aa5-5971686caead-0'),\n",
       " AIMessage(content='Instagram은 사진과 동영상을 공유하고 다른 사람들과 소통하는 소셜 미디어 플랫폼이다. 사용자들은 팔로워들과 인스타그램 스토리, 피드, 라이브 방송 등 다양한 기능을 통해 일상을 공유하고 소통할 수 있다. 또한 해시태그를 통해 관심사나 주제별로 다양한 콘텐츠를 찾아볼 수 있다.', response_metadata={'token_usage': {'completion_tokens': 158, 'prompt_tokens': 22, 'total_tokens': 180}, 'model_name': 'gpt-3.5-turbo', 'system_fingerprint': 'fp_c2295e73ad', 'finish_reason': 'stop', 'logprobs': None}, id='run-3cc0af3a-bb7e-41f5-b5c4-8900ef26161c-0')]"
      ]
     },
     "execution_count": 10,
     "metadata": {},
     "output_type": "execute_result"
    }
   ],
   "source": [
    "# 주어진 토픽 리스트를 batch 처리하는 함수 호출\n",
    "chain.batch([{\"topic\": \"ChatGPT\"}, {\"topic\": \"Instagram\"}])\n"
   ]
  },
  {
   "cell_type": "code",
   "execution_count": 11,
   "metadata": {},
   "outputs": [
    {
     "data": {
      "text/plain": [
       "[AIMessage(content='ChatGPT는 개발된 혁신적인 자연어 처리 기술로, 사용자들과 자연스럽게 대화하며 다양한 주제에 대해 응답합니다. 다양한 분야의 정보를 제공하고 질문에 답변하는 데에 활용되며, 사용자 경험을 향상시키는데 기여합니다. 인공지능 채팅 파트너로서 간편하고 신속한 의사 소통을 가능케 합니다.', response_metadata={'token_usage': {'completion_tokens': 151, 'prompt_tokens': 24, 'total_tokens': 175}, 'model_name': 'gpt-3.5-turbo', 'system_fingerprint': 'fp_c2295e73ad', 'finish_reason': 'stop', 'logprobs': None}, id='run-57d473b0-ba74-4fcc-b310-43cb73a2a361-0'),\n",
       " AIMessage(content='Instagram은 소셜 미디어 플랫폼으로, 사진과 동영상을 공유하고 다른 사람들과 소통할 수 있는 서비스이다. 사용자들은 팔로워들과 소통하며 일상을 공유하고 새로운 콘텐츠를 발견할 수 있다. 해시태그를 활용하여 관심사에 맞는 게시물을 쉽게 찾을 수 있어 인기 있는 소셜 미디어 플랫폼 중 하나이다.', response_metadata={'token_usage': {'completion_tokens': 164, 'prompt_tokens': 22, 'total_tokens': 186}, 'model_name': 'gpt-3.5-turbo', 'system_fingerprint': 'fp_c2295e73ad', 'finish_reason': 'stop', 'logprobs': None}, id='run-7b0a16e4-a2aa-49e2-b542-d95606078023-0'),\n",
       " AIMessage(content='멀티모달은 여러 가지 다양한 형태의 수단을 조합하여 이용자에게 최적의 이동 경로를 제공하는 시스템이다. 이동 수단으로는 자동차, 대중교통, 자전거, 보행 등이 있으며, 사용자는 필요에 따라 다양한 수단을 조합하여 효율적으로 이동할 수 있다. 멀티모달 시스템은 교통 체증 완화, 환경 보호, 이동 편의성 증대 등 다양한 이점을 제공한다.', response_metadata={'token_usage': {'completion_tokens': 180, 'prompt_tokens': 30, 'total_tokens': 210}, 'model_name': 'gpt-3.5-turbo', 'system_fingerprint': 'fp_c2295e73ad', 'finish_reason': 'stop', 'logprobs': None}, id='run-5f4b2658-ce67-43c3-8c48-cd216fd17c58-0'),\n",
       " AIMessage(content='프로그래밍은 컴퓨터에게 실행할 작업을 지시하는 과정이다. 이를 위해 사람이 이해할 수 있는 프로그래밍 언어로 코드를 작성하고, 컴퓨터가 이를 해석하여 원하는 결과를 도출한다. 프로그래밍을 통해 다양한 소프트웨어 및 애플리케이션을 개발할 수 있으며, 현대 사회에서는 필수적인 기술로 자리 잡고 있다.', response_metadata={'token_usage': {'completion_tokens': 149, 'prompt_tokens': 27, 'total_tokens': 176}, 'model_name': 'gpt-3.5-turbo', 'system_fingerprint': 'fp_c2295e73ad', 'finish_reason': 'stop', 'logprobs': None}, id='run-fd0a8027-5b1d-4336-8aec-2affa59c3bfe-0'),\n",
       " AIMessage(content='머신러닝은 컴퓨터가 데이터를 학습하여 패턴을 파악하고 예측하는 인공지능 기술이다. 이를 통해 기계는 인간처럼 학습하고 결정을 내릴 수 있게 된다. 머신러닝은 이미지 및 음성 인식, 자연어 처리, 추천 시스템 등 다양한 분야에서 활용되고 있다.', response_metadata={'token_usage': {'completion_tokens': 127, 'prompt_tokens': 28, 'total_tokens': 155}, 'model_name': 'gpt-3.5-turbo', 'system_fingerprint': 'fp_c2295e73ad', 'finish_reason': 'stop', 'logprobs': None}, id='run-26d4f3f6-2b11-443a-9028-283f98e4b10b-0')]"
      ]
     },
     "execution_count": 11,
     "metadata": {},
     "output_type": "execute_result"
    }
   ],
   "source": [
    "chain.batch(\n",
    "    [\n",
    "        {\"topic\": \"ChatGPT\"},\n",
    "        {\"topic\": \"Instagram\"},\n",
    "        {\"topic\": \"멀티모달\"},\n",
    "        {\"topic\": \"프로그래밍\"},\n",
    "        {\"topic\": \"머신러닝\"},\n",
    "    ],\n",
    "    config={\"max_concurrency\": 3},\n",
    ")\n"
   ]
  },
  {
   "cell_type": "markdown",
   "metadata": {},
   "source": [
    "## 비동기 메소드"
   ]
  },
  {
   "cell_type": "markdown",
   "metadata": {},
   "source": [
    "### async stream: 비동기 스트림"
   ]
  },
  {
   "cell_type": "code",
   "execution_count": 13,
   "metadata": {},
   "outputs": [
    {
     "name": "stdout",
     "output_type": "stream",
     "text": [
      "YouTube는 전 세계에서 가장 인기 있는 동영상 공유 플랫폼으로, 사용자들이 다양한 콘텐츠를 시청하고 업로드할 수 있는 서비스이다. 또한 광고 수익을 얻을 수 있는 유튜버들이 많이 활동하며, 다양한 주제의 동영상을 제공하여 시청자들에게 즐거움과 정보를 제공한다. 유튜브는 사용자들이 손쉽게 동영상을 검색하고 시청할 수 있도록 편리한 인터페이스를 제공하여 많은 사람들이 이용하고 있는 플랫폼이다."
     ]
    }
   ],
   "source": [
    "# 비동기 스트림을 사용하여 'YouTube' 토픽의 메시지를 처리합니다.\n",
    "async for s in chain.astream({\"topic\": \"YouTube\"}):\n",
    "    # 메시지 내용을 출력합니다. 줄바꿈 없이 바로 출력하고 버퍼를 비웁니다.\n",
    "    print(s.content, end=\"\", flush=True)\n"
   ]
  },
  {
   "cell_type": "markdown",
   "metadata": {},
   "source": [
    "### async invoke: 비동기 호출"
   ]
  },
  {
   "cell_type": "code",
   "execution_count": 14,
   "metadata": {},
   "outputs": [
    {
     "data": {
      "text/plain": [
       "AIMessage(content='NVDA는 미국의 기업으로, 주로 그래픽 처리 장비를 생산하는 회사이다. 그들의 주력 제품은 GPU를 이용한 그래픽 가속 카드이며, 주로 게임 및 가상현실 분야에서 사용된다. NVDA는 기술 혁신을 통해 시장을 선도하고 있으며, 주식 시장에서도 높은 인기를 누리고 있다.', response_metadata={'token_usage': {'completion_tokens': 131, 'prompt_tokens': 23, 'total_tokens': 154}, 'model_name': 'gpt-3.5-turbo', 'system_fingerprint': 'fp_c2295e73ad', 'finish_reason': 'stop', 'logprobs': None}, id='run-b0edb43c-6708-46ee-abfd-428a62d3b65d-0')"
      ]
     },
     "execution_count": 14,
     "metadata": {},
     "output_type": "execute_result"
    }
   ],
   "source": [
    "# 비동기 체인 객체의 'ainvoke' 메서드를 호출하여 'NVDA' 토픽을 처리합니다.\n",
    "await chain.ainvoke({\"topic\": \"NVDA\"})\n"
   ]
  },
  {
   "cell_type": "markdown",
   "metadata": {},
   "source": [
    "### async batch: 비동기 배치"
   ]
  },
  {
   "cell_type": "code",
   "execution_count": 15,
   "metadata": {},
   "outputs": [
    {
     "data": {
      "text/plain": [
       "[AIMessage(content='YouTube는 동영상을 업로드하고 시청할 수 있는 온라인 비디오 플랫폼이다. 사용자들은 다양한 주제의 동영상을 업로드하고 시청하여 정보나 즐길거리를 얻을 수 있다. 또한 유명인이나 크리에이터들이 자신의 채널을 통해 팬들과 소통하고 다양한 콘텐츠를 제작한다.', response_metadata={'token_usage': {'completion_tokens': 139, 'prompt_tokens': 22, 'total_tokens': 161}, 'model_name': 'gpt-3.5-turbo', 'system_fingerprint': 'fp_c2295e73ad', 'finish_reason': 'stop', 'logprobs': None}, id='run-41d7eead-15f9-4218-8b9f-688e0e1409d0-0'),\n",
       " AIMessage(content='Instagram은 사진과 동영상을 공유하는 소셜 미디어 플랫폼으로, 사용자들이 자신의 일상을 공유하고 소통하는 공간이다. 다양한 필터와 편집 기능을 이용해 사진과 동영상을 보다 멋지고 효과적으로 표현할 수 있다. 팔로워들과의 상호작용을 통해 소통하고 자신의 취향과 관심사를 공유할 수 있다.', response_metadata={'token_usage': {'completion_tokens': 153, 'prompt_tokens': 22, 'total_tokens': 175}, 'model_name': 'gpt-3.5-turbo', 'system_fingerprint': 'fp_c2295e73ad', 'finish_reason': 'stop', 'logprobs': None}, id='run-8c2584ef-19f1-4a17-8559-70971640ac0a-0'),\n",
       " AIMessage(content='페이스북은 전세계 사람들과 연결되는 소셜 네트워크 서비스이며, 다양한 콘텐츠를 공유하고 소통할 수 있는 플랫폼입니다. 사용자들은 친구, 가족뿐만 아니라 비즈니스나 단체와도 연결되어 소식을 공유하고 소통할 수 있습니다. 또한 광고를 통해 비즈니스 활동을 홍보하거나 이벤트를 홍보하는 등 다양한 목적으로 활용됩니다.', response_metadata={'token_usage': {'completion_tokens': 177, 'prompt_tokens': 22, 'total_tokens': 199}, 'model_name': 'gpt-3.5-turbo', 'system_fingerprint': 'fp_c2295e73ad', 'finish_reason': 'stop', 'logprobs': None}, id='run-09951166-1500-47c6-9090-2465ddc51157-0')]"
      ]
     },
     "execution_count": 15,
     "metadata": {},
     "output_type": "execute_result"
    }
   ],
   "source": [
    "# 주어진 토픽에 대해 비동기적으로 일괄 처리를 수행합니다.\n",
    "await chain.abatch(\n",
    "    [{\"topic\": \"YouTube\"}, {\"topic\": \"Instagram\"}, {\"topic\": \"Facebook\"}]\n",
    ")\n"
   ]
  },
  {
   "cell_type": "markdown",
   "metadata": {},
   "source": [
    "## 아래는 굳이,,"
   ]
  },
  {
   "cell_type": "markdown",
   "metadata": {},
   "source": [
    "### async stream 중간 단계 디버깅"
   ]
  },
  {
   "cell_type": "markdown",
   "metadata": {},
   "source": [
    "모든 runnable은 체인/시퀀스의 중간 단계를 스트리밍하기 위해 사용되는 .astream_log() 메서드를 가지고 있습니다.\n",
    "\n",
    "이것은 사용자에게 진행 상황을 보여주거나, 중간 결과를 사용하거나, 체인을 디버깅하는 데 유용합니다.\n",
    "\n",
    "모든 단계를 스트리밍할 수도 있고(기본값), 이름, 태그 또는 메타데이터에 따라 단계를 포함하거나 제외할 수 있습니다.\n",
    "\n",
    "이 메서드는 RunState를 구축하는 데 필요한 순서대로 적용될 때 JSONPatch 작업을 생성합니다.\n",
    "\n",
    "LogEntry 클래스와 RunState 클래스는 각각 서브-런과 런의 상태를 나타내는 필드와 설명을 포함하고 있습니다."
   ]
  },
  {
   "cell_type": "markdown",
   "metadata": {},
   "source": [
    "#### JSONPatch 청크 스트리밍"
   ]
  },
  {
   "cell_type": "code",
   "execution_count": null,
   "metadata": {},
   "outputs": [],
   "source": [
    "# 이 코드는 langchain 라이브러리를 사용하여 텍스트 기반 질의응답 시스템을 구축하는 과정을 보여줍니다.\n",
    "# 먼저 OpenAIEmbeddings를 사용하여 임베딩을 생성하고, FAISS 벡터 스토어를 이용해 텍스트를 인덱싱합니다. 그 후 ChatPromptTemplate를 사용하여 질문에 대한 프롬프트를 생성합니다.\n",
    "# 프롬프트는 retriever와 RunnablePassthrough를 통해 질문의 컨텍스트를 검색하고, 질문을 그대로 전달합니다. retrieval_chain은 이러한 컴포넌트들을 파이프라인으로 연결하고, StrOutputParser를 사용하여 모델의 출력을 문자열로 파싱합니다.\n",
    "# 마지막으로, astream_log를 비동기적으로 반복하여 질문에 대한 답변을 로그로 출력합니다.\n",
    "\n",
    "from langchain_openai import OpenAIEmbeddings\n",
    "from langchain.vectorstores import FAISS\n",
    "from langchain_core.output_parsers import StrOutputParser\n",
    "from langchain_core.runnables import RunnablePassthrough\n",
    "\n",
    "template = \"\"\"Answer the question based only on the following context:\n",
    "{context}\n",
    "\n",
    "Question: {question}\n",
    "\"\"\"\n",
    "prompt = ChatPromptTemplate.from_template(template)\n",
    "\n",
    "vectorstore = FAISS.from_texts(\n",
    "    [\"테디가 살고 있는 곳은 대한민국 입니다.\"], embedding=OpenAIEmbeddings()\n",
    ")\n",
    "retriever = vectorstore.as_retriever()\n",
    "\n",
    "retrieval_chain = (\n",
    "    {\n",
    "        \"context\": retriever.with_config(run_name=\"Docs\"),\n",
    "        \"question\": RunnablePassthrough(),\n",
    "    }\n",
    "    | prompt\n",
    "    | model\n",
    "    | StrOutputParser()\n",
    ")\n",
    "\n",
    "async for chunk in retrieval_chain.astream_log(\n",
    "    \"테디가 살고 있는 곳은 어딘가요?\", include_names=[\"Docs\"]\n",
    "):\n",
    "    print(\"-\" * 40)\n",
    "    print(chunk)\n"
   ]
  },
  {
   "cell_type": "markdown",
   "metadata": {},
   "source": [
    "#### 증분 RunState 스트리밍"
   ]
  },
  {
   "cell_type": "code",
   "execution_count": null,
   "metadata": {},
   "outputs": [],
   "source": [
    "# diff=False를 전달하면 RunState의 증분 값을 간단히 얻을 수 있습니다. 더 자세한 출력을 원하면 반복되는 부분이 더 많아집니다.\n",
    "# 이 함수는 retrieval_chain 객체의 astream_log 비동기 메서드를 사용하여 로그 데이터를 비동기적으로 검색합니다. 검색 쿼리는 \"where did harrison work?\"이며, include_names 매개변수를 통해 \"Docs\"를 포함한 로그만을 필터링합니다. diff 매개변수는 False로 설정되어 있어, 변경 사항에 대한 차이점을 표시하지 않습니다. 각 로그 청크(chunk)가 검색될 때마다, 청크의 내용을 출력하기 전에 구분선을 출력합니다.\n",
    "\n",
    "async for chunk in retrieval_chain.astream_log(\n",
    "    \"테디가 살고 있는 곳은 어딘가요?\", include_names=[\"Docs\"], diff=False\n",
    "):\n",
    "    print(\"-\" * 70)\n",
    "    print(chunk)\n"
   ]
  },
  {
   "cell_type": "markdown",
   "metadata": {},
   "source": [
    "## Parallel: 병렬성"
   ]
  },
  {
   "cell_type": "code",
   "execution_count": 16,
   "metadata": {},
   "outputs": [],
   "source": [
    "# langchain_core.runnables 모듈의 RunnableParallel 클래스를 사용하여 두 가지 작업을 병렬로 실행하는 예시를 보여줍니다.\n",
    "# ChatPromptTemplate.from_template 메서드를 사용하여 주어진 country에 대한 수도 와 면적 을 구하는 두 개의 체인(chain1, chain2)을 만듭니다.\n",
    "# 이 체인들은 각각 model과 파이프(|) 연산자를 통해 연결됩니다. 마지막으로, RunnableParallel 클래스를 사용하여 이 두 체인을 capital와 area이라는 키로 결합하여 동시에 실행할 수 있는 combined 객체를 생성합니다.\n",
    "\n",
    "from langchain_core.runnables import RunnableParallel\n",
    "\n",
    "# {country} 의 수도를 물어보는 체인을 생성합니다.\n",
    "chain1 = ChatPromptTemplate.from_template(\"{country} 의 수도는 어디야?\") | model\n",
    "\n",
    "# {country} 의 면적을 물어보는 체인을 생성합니다.\n",
    "chain2 = ChatPromptTemplate.from_template(\"{country} 의 면적은 얼마야?\") | model\n",
    "# 위의 2개 체인을 동시에 생성하는 병렬 실행 체인을 생성합니다.\n",
    "combined = RunnableParallel(capital=chain1, area=chain2)\n"
   ]
  },
  {
   "cell_type": "code",
   "execution_count": 17,
   "metadata": {},
   "outputs": [
    {
     "data": {
      "text/plain": [
       "AIMessage(content='대한민국의 수도는 서울입니다.', response_metadata={'token_usage': {'completion_tokens': 15, 'prompt_tokens': 23, 'total_tokens': 38}, 'model_name': 'gpt-3.5-turbo', 'system_fingerprint': 'fp_c2295e73ad', 'finish_reason': 'stop', 'logprobs': None}, id='run-c9b9148c-6ace-41bc-bd2d-c05426b9ff8f-0')"
      ]
     },
     "execution_count": 17,
     "metadata": {},
     "output_type": "execute_result"
    }
   ],
   "source": [
    "# chain1.invoke() 함수는 chain1 객체의 invoke 메서드를 호출합니다.\n",
    "# 이때, country이라는 키에 대한민국라는 값을 가진 딕셔너리를 인자로 전달합니다.\n",
    "\n",
    "chain1.invoke(\n",
    "    {\"country\": \"대한민국\"}\n",
    ")  # chain1 객체의 invoke 메서드를 호출하고, 'country' 키에 '대한민국' 값을 전달합니다.\n"
   ]
  },
  {
   "cell_type": "code",
   "execution_count": 18,
   "metadata": {},
   "outputs": [
    {
     "data": {
      "text/plain": [
       "AIMessage(content='미국의 면적은 약 9,833,520km² 입니다.', response_metadata={'token_usage': {'completion_tokens': 21, 'prompt_tokens': 22, 'total_tokens': 43}, 'model_name': 'gpt-3.5-turbo', 'system_fingerprint': 'fp_c2295e73ad', 'finish_reason': 'stop', 'logprobs': None}, id='run-16107120-6cbb-4533-8a39-ccd513023a68-0')"
      ]
     },
     "execution_count": 18,
     "metadata": {},
     "output_type": "execute_result"
    }
   ],
   "source": [
    "# 이번에는 chain2.invoke() 를 호출합니다. country 키에 다른 국가인 미국 을 전달합니다.\n",
    "\n",
    "# chain2 객체의 invoke 메서드를 호출하고, '미국'이라는 인자를 전달합니다.\n",
    "chain2.invoke({\"country\": \"미국\"})\n"
   ]
  },
  {
   "cell_type": "code",
   "execution_count": 19,
   "metadata": {},
   "outputs": [
    {
     "data": {
      "text/plain": [
       "{'capital': AIMessage(content='대한민국의 수도는 서울이야.', response_metadata={'token_usage': {'completion_tokens': 16, 'prompt_tokens': 23, 'total_tokens': 39}, 'model_name': 'gpt-3.5-turbo', 'system_fingerprint': 'fp_c2295e73ad', 'finish_reason': 'stop', 'logprobs': None}, id='run-df1e970b-b050-45b3-88b8-8f551985fe09-0'),\n",
       " 'area': AIMessage(content='대한민국의 총 면적은 약 100,363 km² 입니다.', response_metadata={'token_usage': {'completion_tokens': 25, 'prompt_tokens': 25, 'total_tokens': 50}, 'model_name': 'gpt-3.5-turbo', 'system_fingerprint': 'fp_c2295e73ad', 'finish_reason': 'stop', 'logprobs': None}, id='run-028c682e-63da-4cfb-a8af-fb270c3728f1-0')}"
      ]
     },
     "execution_count": 19,
     "metadata": {},
     "output_type": "execute_result"
    }
   ],
   "source": [
    "# combined 객체의 invoke 메서드는 주어진 country에 대한 처리를 수행합니다.\n",
    "# 이 예제에서는 대한민국라는 주제를 invoke 메서드에 전달하여 실행합니다.\n",
    "\n",
    "# 주어진 'country'에 대해 'combined' 객체의 'invoke' 메서드를 호출합니다.\n",
    "combined.invoke({\"country\": \"대한민국\"})"
   ]
  },
  {
   "cell_type": "markdown",
   "metadata": {},
   "source": [
    "### 배치에서의 병렬 처리"
   ]
  },
  {
   "cell_type": "markdown",
   "metadata": {},
   "source": [
    "병렬 처리는 다른 실행 가능한 코드와 결합될 수 있습니다. 배치와 병렬 처리를 사용해 보도록 합시다."
   ]
  },
  {
   "cell_type": "code",
   "execution_count": 20,
   "metadata": {},
   "outputs": [
    {
     "data": {
      "text/plain": [
       "[AIMessage(content='대한민국의 수도는 서울이에요.', response_metadata={'token_usage': {'completion_tokens': 17, 'prompt_tokens': 23, 'total_tokens': 40}, 'model_name': 'gpt-3.5-turbo', 'system_fingerprint': 'fp_c2295e73ad', 'finish_reason': 'stop', 'logprobs': None}, id='run-5315de82-592e-41b6-a473-937ac4518580-0'),\n",
       " AIMessage(content='미국의 수도는 워싱턴 D.C.입니다.', response_metadata={'token_usage': {'completion_tokens': 17, 'prompt_tokens': 20, 'total_tokens': 37}, 'model_name': 'gpt-3.5-turbo', 'system_fingerprint': 'fp_c2295e73ad', 'finish_reason': 'stop', 'logprobs': None}, id='run-fd65cdea-aaf0-446b-a4ba-9829186ea33b-0')]"
      ]
     },
     "execution_count": 20,
     "metadata": {},
     "output_type": "execute_result"
    }
   ],
   "source": [
    "# chain1.batch 함수는 여러 개의 딕셔너리를 포함하는 리스트를 인자로 받아, 각 딕셔너리에 있는 \"topic\" 키에 해당하는 값을 처리합니다. 이 예시에서는 \"대한민국\"와 \"미국\"라는 두 개의 토픽을 배치 처리하고 있습니다.\n",
    "\n",
    "# 배치 처리를 수행합니다.\n",
    "chain1.batch([{\"country\": \"대한민국\"}, {\"country\": \"미국\"}])"
   ]
  },
  {
   "cell_type": "code",
   "execution_count": 21,
   "metadata": {},
   "outputs": [
    {
     "data": {
      "text/plain": [
       "[AIMessage(content='대한민국의 총 면적은 약 100,363km² 입니다.', response_metadata={'token_usage': {'completion_tokens': 25, 'prompt_tokens': 25, 'total_tokens': 50}, 'model_name': 'gpt-3.5-turbo', 'system_fingerprint': 'fp_c2295e73ad', 'finish_reason': 'stop', 'logprobs': None}, id='run-690d646b-d37d-4b98-af5d-b9fe497dc827-0'),\n",
       " AIMessage(content='미국의 면적은 약 9,833,520 km² 입니다.', response_metadata={'token_usage': {'completion_tokens': 21, 'prompt_tokens': 22, 'total_tokens': 43}, 'model_name': 'gpt-3.5-turbo', 'system_fingerprint': 'fp_c2295e73ad', 'finish_reason': 'stop', 'logprobs': None}, id='run-9b158246-a414-4ed7-963f-90889f5ff44f-0')]"
      ]
     },
     "execution_count": 21,
     "metadata": {},
     "output_type": "execute_result"
    }
   ],
   "source": [
    "# chain2.batch 함수는 여러 개의 딕셔너리를 리스트 형태로 받아, 일괄 처리(batch)를 수행합니다.\n",
    "# 이 예시에서는 대한민국와 미국라는 두 가지 국가에 대한 처리를 요청합니다.\n",
    "\n",
    "# 배치 처리를 수행합니다.\n",
    "chain2.batch([{\"country\": \"대한민국\"}, {\"country\": \"미국\"}])"
   ]
  },
  {
   "cell_type": "code",
   "execution_count": 22,
   "metadata": {},
   "outputs": [
    {
     "data": {
      "text/plain": [
       "[{'capital': AIMessage(content='서울이에요.', response_metadata={'token_usage': {'completion_tokens': 7, 'prompt_tokens': 23, 'total_tokens': 30}, 'model_name': 'gpt-3.5-turbo', 'system_fingerprint': 'fp_c2295e73ad', 'finish_reason': 'stop', 'logprobs': None}, id='run-52283a19-a228-4604-bc26-d3548833d0ea-0'),\n",
       "  'area': AIMessage(content='대한민국의 총 면적은 약 100,363제곱 킬로미터 입니다.', response_metadata={'token_usage': {'completion_tokens': 31, 'prompt_tokens': 25, 'total_tokens': 56}, 'model_name': 'gpt-3.5-turbo', 'system_fingerprint': 'fp_c2295e73ad', 'finish_reason': 'stop', 'logprobs': None}, id='run-08155075-5f62-4b84-a46f-b5601d62a09c-0')},\n",
       " {'capital': AIMessage(content='미국의 수도는 워싱턴 D.C.입니다.', response_metadata={'token_usage': {'completion_tokens': 17, 'prompt_tokens': 20, 'total_tokens': 37}, 'model_name': 'gpt-3.5-turbo', 'system_fingerprint': 'fp_c2295e73ad', 'finish_reason': 'stop', 'logprobs': None}, id='run-28c23f64-e3d4-4d53-a9e8-0d7c9313a34a-0'),\n",
       "  'area': AIMessage(content='미국의 면적은 약 9,826,675km² 입니다.', response_metadata={'token_usage': {'completion_tokens': 21, 'prompt_tokens': 22, 'total_tokens': 43}, 'model_name': 'gpt-3.5-turbo', 'system_fingerprint': 'fp_c2295e73ad', 'finish_reason': 'stop', 'logprobs': None}, id='run-3f8ed0e8-f61a-4643-b552-dc883605735f-0')}]"
      ]
     },
     "execution_count": 22,
     "metadata": {},
     "output_type": "execute_result"
    }
   ],
   "source": [
    "# combined.batch 함수는 주어진 데이터를 배치로 처리하는 데 사용됩니다. 이 예시에서는 두 개의 딕셔너리 객체를 포함하는 리스트를 인자로 받아 각각 대한민국와 미국 두 나라에 대한 데이터를 배치 처리합니다.\n",
    "\n",
    "# 주어진 데이터를 배치로 처리합니다.\n",
    "combined.batch([{\"country\": \"대한민국\"}, {\"country\": \"미국\"}])"
   ]
  },
  {
   "cell_type": "code",
   "execution_count": null,
   "metadata": {},
   "outputs": [],
   "source": []
  }
 ],
 "metadata": {
  "kernelspec": {
   "display_name": ".venv",
   "language": "python",
   "name": "python3"
  },
  "language_info": {
   "codemirror_mode": {
    "name": "ipython",
    "version": 3
   },
   "file_extension": ".py",
   "mimetype": "text/x-python",
   "name": "python",
   "nbconvert_exporter": "python",
   "pygments_lexer": "ipython3",
   "version": "3.12.1"
  }
 },
 "nbformat": 4,
 "nbformat_minor": 2
}
